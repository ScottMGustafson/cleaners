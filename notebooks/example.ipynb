{
 "cells": [
  {
   "cell_type": "markdown",
   "id": "17e0d33b-d5a8-4b69-bb4a-f45de2778fcb",
   "metadata": {},
   "source": [
    "# Example data cleaning"
   ]
  },
  {
   "cell_type": "code",
   "execution_count": 1,
   "id": "fd65aedb-4ec7-4713-b9c1-75b2b8483743",
   "metadata": {},
   "outputs": [],
   "source": [
    "import numpy as np\n",
    "import pandas as pd\n",
    "from sklearn.compose import ColumnTransformer\n",
    "from sklearn.datasets import fetch_openml\n",
    "from sklearn.model_selection import train_test_split\n",
    "from sklearn.pipeline import Pipeline, make_pipeline\n",
    "\n",
    "from cleaners import data_types, drop_replace, eliminate_feats, impute\n",
    "from cleaners.indicators import AddIndicators\n",
    "\n",
    "X, y = fetch_openml(\"titanic\", version=1, as_frame=True, return_X_y=True)"
   ]
  },
  {
   "cell_type": "markdown",
   "id": "b2717f5e-5685-4f5b-90a1-55d69509e5b2",
   "metadata": {},
   "source": [
    "### Add some bogus columns\n"
   ]
  },
  {
   "cell_type": "code",
   "execution_count": 2,
   "id": "e3c065b5-741d-4f22-aa4a-51a9f4d95756",
   "metadata": {},
   "outputs": [
    {
     "data": {
      "text/plain": [
       "10000"
      ]
     },
     "execution_count": 2,
     "metadata": {},
     "output_type": "execute_result"
    }
   ],
   "source": [
    "rs = np.random.RandomState(0)\n",
    "sz = len(X)\n",
    "\n",
    "# add dupe columns\n",
    "\n",
    "X[\"float_to_str\"] = rs.normal(scale=0.4, size=sz).astype(str)  # should get converted to float\n",
    "X[\"Some<Colu,mn,NAme\"] = rs.random_sample(size=sz)\n",
    "X[\"zero_variance\"] = np.ones(sz)\n",
    "X[\"all_nans\"] = pd.Series(len(X) * [np.nan])\n",
    "X[\"correlated_to_age_1\"] = 0.5 * X[\"age\"] + rs.normal(scale=0.1, size=sz) + 6\n",
    "X[\"correlated_to_age_2\"] = X[\"age\"] + rs.normal(scale=0.4, size=sz) - 7\n",
    "y[pd.Series(y.index).sample(frac=0.05)] = np.nan\n",
    "X[\"target\"] = y\n",
    "\n",
    "# add some nans\n",
    "X.loc[pd.Series(X.index.values).sample(frac=0.1), \"fare\"] = np.nan\n",
    "\n",
    "# add dupes\n",
    "X = X.sample(n=10000, replace=True)\n",
    "X[\"ix\"] = pd.Series(np.ones(len(X))).cumsum() + 1\n",
    "X.set_index(\"ix\")\n",
    "len(X)"
   ]
  },
  {
   "cell_type": "markdown",
   "id": "8dcac9db-2fa6-4fa6-af55-6d6aa7230854",
   "metadata": {},
   "source": [
    "## Split dataset"
   ]
  },
  {
   "cell_type": "code",
   "execution_count": 3,
   "id": "162981a7-13dc-4799-8ad9-71fbd3d37cf9",
   "metadata": {},
   "outputs": [
    {
     "data": {
      "text/plain": [
       "8000"
      ]
     },
     "execution_count": 3,
     "metadata": {},
     "output_type": "execute_result"
    }
   ],
   "source": [
    "X_train, X_test = train_test_split(X, test_size=0.2)\n",
    "len(X_train)"
   ]
  },
  {
   "cell_type": "code",
   "execution_count": 5,
   "id": "d2f37c83-bcf8-4913-86a1-ce06f1f9324f",
   "metadata": {},
   "outputs": [
    {
     "data": {
      "text/plain": [
       "Index(['pclass', 'name', 'sex', 'age', 'sibsp', 'parch', 'ticket', 'fare',\n",
       "       'cabin', 'embarked', 'boat', 'body', 'home.dest', 'float_to_str',\n",
       "       'Some<Colu,mn,NAme', 'zero_variance', 'all_nans', 'correlated_to_age_1',\n",
       "       'correlated_to_age_2', 'target', 'ix'],\n",
       "      dtype='object')"
      ]
     },
     "execution_count": 5,
     "metadata": {},
     "output_type": "execute_result"
    }
   ],
   "source": [
    "X.columns"
   ]
  },
  {
   "cell_type": "markdown",
   "id": "e0af469d-37d6-42ac-baae-d1d4f028f143",
   "metadata": {},
   "source": [
    "### Run like any sklearn transformers"
   ]
  },
  {
   "cell_type": "code",
   "execution_count": null,
   "id": "8204a2e6-dbd7-4c14-82c4-336aab62cfd2",
   "metadata": {},
   "outputs": [],
   "source": [
    "X_train =  drop_replace.DropNa(subset=[\"target\"]).fit_transform(X_train)\n",
    "len(X_train)"
   ]
  },
  {
   "cell_type": "markdown",
   "id": "045e9d8a-aef6-4543-b247-ca35179ca89c",
   "metadata": {},
   "source": [
    "### Set up data clean pipeline"
   ]
  },
  {
   "cell_type": "code",
   "execution_count": null,
   "id": "cc4bc79a-6f6a-4a3b-992e-bffe3a1e6bfb",
   "metadata": {},
   "outputs": [],
   "source": [
    "mandatory_columns = [\"pclass\"]\n",
    "\n",
    "pipeline_steps = [\n",
    "    (\"pre_drop\", drop_replace.DropNamedCol(drop_cols=[\"name\", \"ticket\", \"home.dest\"])),\n",
    "    (\n",
    "        \"fix_types\",\n",
    "        data_types.FixDTypes(verbose=True),\n",
    "    ),\n",
    "    (\"replace_bad_names\", drop_replace.ReplaceBadColnameChars()),\n",
    "    (\n",
    "        \"drop_mostly_nan\",\n",
    "        eliminate_feats.DropMostlyNaN(\n",
    "            nan_frac_thresh=0.5,\n",
    "            mandatory=mandatory_columns,\n",
    "            skip_if_missing=True,\n",
    "            sample_rate=0.3,\n",
    "        ),\n",
    "    ),\n",
    "\n",
    "    (\n",
    "        \"drop_uninformative_1\",\n",
    "        eliminate_feats.DropUninformative(mandatory=mandatory_columns, sample_rate=0.3),\n",
    "    ),\n",
    "    (\n",
    "        \"impute\",\n",
    "        impute.ImputeByValue(\n",
    "            cols=[\"fare\"],\n",
    "            imputer_kwargs=dict(add_indicator=True, strategy=\"median\"),\n",
    "            sample_rate=0.3,\n",
    "        ),\n",
    "    ),\n",
    "    (\n",
    "        \"indicators\",\n",
    "        AddIndicators(\n",
    "            values_to_indicate={\"boat\": [\"None\", \"13 15 B\", \"C D\"], \"cabin\": [\"None\"]},\n",
    "            sample_rate=0.3,\n",
    "        ),\n",
    "    ),\n",
    "    (\n",
    "        \"feature_elim_1\",\n",
    "        eliminate_feats.HighCorrelationElim(\n",
    "            mandatory=mandatory_columns, sample_rate=0.3\n",
    "        ),\n",
    "    ),\n",
    "]"
   ]
  },
  {
   "cell_type": "code",
   "execution_count": null,
   "id": "f4583b5a-6d61-478f-a071-e517d919d286",
   "metadata": {},
   "outputs": [],
   "source": [
    "# run the pipeline\n",
    "your_pipeline = Pipeline(pipeline_steps)\n",
    "X_train_tr = your_pipeline.fit_transform(X_train)\n",
    "X_train_tr"
   ]
  },
  {
   "cell_type": "code",
   "execution_count": null,
   "id": "e7c38ee2-0b65-463c-b758-6de6340ebeac",
   "metadata": {},
   "outputs": [],
   "source": [
    "assert X_train_tr.dtypes[\"float_to_str\"] == \"float64\""
   ]
  },
  {
   "cell_type": "markdown",
   "id": "98c46f1b-b847-487c-afee-c62377d8c3a9",
   "metadata": {},
   "source": [
    "### Apply on test dataset"
   ]
  },
  {
   "cell_type": "code",
   "execution_count": null,
   "id": "9b942dd8-7291-4eaa-a728-b6dcca9899b3",
   "metadata": {},
   "outputs": [],
   "source": [
    "X_test_tr = your_pipeline.transform(X_test)"
   ]
  },
  {
   "cell_type": "code",
   "execution_count": null,
   "id": "69bb735b-27e6-4211-bc18-a035833a8bfb",
   "metadata": {},
   "outputs": [],
   "source": [
    "X_test_tr"
   ]
  },
  {
   "cell_type": "markdown",
   "id": "9b5798db-dc7d-4f44-b207-078443e7c289",
   "metadata": {},
   "source": [
    "## Also works with dask dataframes"
   ]
  },
  {
   "cell_type": "code",
   "execution_count": null,
   "id": "a27968a3-e90c-4666-9717-d07148777744",
   "metadata": {},
   "outputs": [],
   "source": [
    "import dask.dataframe as dd\n",
    "\n",
    "X_test_tr_dd = your_pipeline.transform(dd.from_pandas(X_test, npartitions=3)).compute()"
   ]
  },
  {
   "cell_type": "code",
   "execution_count": null,
   "id": "135a63e7-6aea-4aa0-b5a8-f0e5205e5e19",
   "metadata": {},
   "outputs": [],
   "source": [
    "assert (X_test_tr.columns == X_train_tr.columns).all()"
   ]
  },
  {
   "cell_type": "code",
   "execution_count": null,
   "id": "0c004bfb-ff1e-4faf-ba78-0c946df0f0ea",
   "metadata": {},
   "outputs": [],
   "source": [
    "pd.testing.assert_frame_equal(X_test_tr_dd.sort_index(), X_test_tr.sort_index())"
   ]
  }
 ],
 "metadata": {
  "kernelspec": {
   "display_name": "Python 3 (ipykernel)",
   "language": "python",
   "name": "python3"
  },
  "language_info": {
   "codemirror_mode": {
    "name": "ipython",
    "version": 3
   },
   "file_extension": ".py",
   "mimetype": "text/x-python",
   "name": "python",
   "nbconvert_exporter": "python",
   "pygments_lexer": "ipython3",
   "version": "3.10.4"
  }
 },
 "nbformat": 4,
 "nbformat_minor": 5
}
